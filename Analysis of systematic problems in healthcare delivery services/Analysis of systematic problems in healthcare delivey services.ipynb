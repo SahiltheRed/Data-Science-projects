{
 "cells": [
  {
   "cell_type": "code",
   "execution_count": 1,
   "id": "d97e7c59",
   "metadata": {},
   "outputs": [],
   "source": [
    "import pandas as pd\n",
    "import numpy as np\n",
    "import matplotlib.pyplot as plt\n",
    "import seaborn as sns"
   ]
  },
  {
   "cell_type": "markdown",
   "id": "06951036",
   "metadata": {},
   "source": [
    "**PART 1**"
   ]
  },
  {
   "cell_type": "code",
   "execution_count": 2,
   "id": "35908708",
   "metadata": {},
   "outputs": [],
   "source": [
    "# reading the csv files\n",
    "users_df = pd.read_csv('users.txt', sep=':', names=['UserID', 'BeneficiaryIDs'])\n",
    "areas_df = pd.read_csv('areas.csv')\n",
    "visits_df = pd.read_csv('visits.csv')"
   ]
  },
  {
   "cell_type": "code",
   "execution_count": 3,
   "id": "f7af086d",
   "metadata": {},
   "outputs": [],
   "source": [
    "users_df = users_df.assign(BeneficiaryIDs=users_df['BeneficiaryIDs'].str.split(','))"
   ]
  },
  {
   "cell_type": "code",
   "execution_count": 4,
   "id": "caa60df2",
   "metadata": {},
   "outputs": [
    {
     "data": {
      "text/html": [
       "<div>\n",
       "<style scoped>\n",
       "    .dataframe tbody tr th:only-of-type {\n",
       "        vertical-align: middle;\n",
       "    }\n",
       "\n",
       "    .dataframe tbody tr th {\n",
       "        vertical-align: top;\n",
       "    }\n",
       "\n",
       "    .dataframe thead th {\n",
       "        text-align: right;\n",
       "    }\n",
       "</style>\n",
       "<table border=\"1\" class=\"dataframe\">\n",
       "  <thead>\n",
       "    <tr style=\"text-align: right;\">\n",
       "      <th></th>\n",
       "      <th>UserID</th>\n",
       "      <th>BeneficiaryIDs</th>\n",
       "    </tr>\n",
       "  </thead>\n",
       "  <tbody>\n",
       "    <tr>\n",
       "      <th>0</th>\n",
       "      <td>CHW_27</td>\n",
       "      <td>[ beneficiary_2253, beneficiary_11406, benefic...</td>\n",
       "    </tr>\n",
       "    <tr>\n",
       "      <th>1</th>\n",
       "      <td>CHW_1</td>\n",
       "      <td>[ beneficiary_19903, beneficiary_19276, benefi...</td>\n",
       "    </tr>\n",
       "    <tr>\n",
       "      <th>2</th>\n",
       "      <td>CHW_62</td>\n",
       "      <td>[ beneficiary_14370, beneficiary_6999, benefic...</td>\n",
       "    </tr>\n",
       "    <tr>\n",
       "      <th>3</th>\n",
       "      <td>CHW_38</td>\n",
       "      <td>[ beneficiary_1345, beneficiary_5596, benefici...</td>\n",
       "    </tr>\n",
       "    <tr>\n",
       "      <th>4</th>\n",
       "      <td>CHW_24</td>\n",
       "      <td>[ beneficiary_22846, beneficiary_3834, benefic...</td>\n",
       "    </tr>\n",
       "  </tbody>\n",
       "</table>\n",
       "</div>"
      ],
      "text/plain": [
       "   UserID                                     BeneficiaryIDs\n",
       "0  CHW_27  [ beneficiary_2253, beneficiary_11406, benefic...\n",
       "1   CHW_1  [ beneficiary_19903, beneficiary_19276, benefi...\n",
       "2  CHW_62  [ beneficiary_14370, beneficiary_6999, benefic...\n",
       "3  CHW_38  [ beneficiary_1345, beneficiary_5596, benefici...\n",
       "4  CHW_24  [ beneficiary_22846, beneficiary_3834, benefic..."
      ]
     },
     "execution_count": 4,
     "metadata": {},
     "output_type": "execute_result"
    }
   ],
   "source": [
    "users_df.head()"
   ]
  },
  {
   "cell_type": "code",
   "execution_count": 5,
   "id": "c08fb5c7",
   "metadata": {},
   "outputs": [],
   "source": [
    "# splitting beneficiaries into seperate rows for each ID\n",
    "users_df = users_df.explode('BeneficiaryIDs')"
   ]
  },
  {
   "cell_type": "code",
   "execution_count": 6,
   "id": "0d5a9635",
   "metadata": {},
   "outputs": [
    {
     "data": {
      "text/html": [
       "<div>\n",
       "<style scoped>\n",
       "    .dataframe tbody tr th:only-of-type {\n",
       "        vertical-align: middle;\n",
       "    }\n",
       "\n",
       "    .dataframe tbody tr th {\n",
       "        vertical-align: top;\n",
       "    }\n",
       "\n",
       "    .dataframe thead th {\n",
       "        text-align: right;\n",
       "    }\n",
       "</style>\n",
       "<table border=\"1\" class=\"dataframe\">\n",
       "  <thead>\n",
       "    <tr style=\"text-align: right;\">\n",
       "      <th></th>\n",
       "      <th>UserID</th>\n",
       "      <th>BeneficiaryIDs</th>\n",
       "    </tr>\n",
       "  </thead>\n",
       "  <tbody>\n",
       "    <tr>\n",
       "      <th>0</th>\n",
       "      <td>CHW_27</td>\n",
       "      <td>beneficiary_2253</td>\n",
       "    </tr>\n",
       "    <tr>\n",
       "      <th>0</th>\n",
       "      <td>CHW_27</td>\n",
       "      <td>beneficiary_11406</td>\n",
       "    </tr>\n",
       "    <tr>\n",
       "      <th>0</th>\n",
       "      <td>CHW_27</td>\n",
       "      <td>beneficiary_3771</td>\n",
       "    </tr>\n",
       "    <tr>\n",
       "      <th>0</th>\n",
       "      <td>CHW_27</td>\n",
       "      <td>beneficiary_14319</td>\n",
       "    </tr>\n",
       "    <tr>\n",
       "      <th>0</th>\n",
       "      <td>CHW_27</td>\n",
       "      <td>beneficiary_14032</td>\n",
       "    </tr>\n",
       "  </tbody>\n",
       "</table>\n",
       "</div>"
      ],
      "text/plain": [
       "   UserID     BeneficiaryIDs\n",
       "0  CHW_27   beneficiary_2253\n",
       "0  CHW_27  beneficiary_11406\n",
       "0  CHW_27   beneficiary_3771\n",
       "0  CHW_27  beneficiary_14319\n",
       "0  CHW_27  beneficiary_14032"
      ]
     },
     "execution_count": 6,
     "metadata": {},
     "output_type": "execute_result"
    }
   ],
   "source": [
    "users_df.head()"
   ]
  },
  {
   "cell_type": "code",
   "execution_count": 7,
   "id": "b0f9b7f4",
   "metadata": {},
   "outputs": [
    {
     "data": {
      "text/plain": [
       "BeneficiaryIDs      UserID\n",
       " beneficiary_10084  CHW_42    1\n",
       " beneficiary_10174  CHW_69    1\n",
       " beneficiary_11000  CHW_51    1\n",
       " beneficiary_11035  CHW_43    1\n",
       " beneficiary_11810  CHW_55    1\n",
       "                             ..\n",
       "beneficiary_9995    CHW_30    1\n",
       "beneficiary_9996    CHW_64    1\n",
       "beneficiary_9997    CHW_23    1\n",
       "beneficiary_9998    CHW_53    1\n",
       "beneficiary_9999    CHW_53    1\n",
       "Name: UserID, Length: 23155, dtype: int64"
      ]
     },
     "execution_count": 7,
     "metadata": {},
     "output_type": "execute_result"
    }
   ],
   "source": [
    "# experimenting\n",
    "users_df.groupby('BeneficiaryIDs')['UserID'].value_counts()"
   ]
  },
  {
   "cell_type": "code",
   "execution_count": 8,
   "id": "05a380a5",
   "metadata": {},
   "outputs": [
    {
     "data": {
      "text/html": [
       "<div>\n",
       "<style scoped>\n",
       "    .dataframe tbody tr th:only-of-type {\n",
       "        vertical-align: middle;\n",
       "    }\n",
       "\n",
       "    .dataframe tbody tr th {\n",
       "        vertical-align: top;\n",
       "    }\n",
       "\n",
       "    .dataframe thead th {\n",
       "        text-align: right;\n",
       "    }\n",
       "</style>\n",
       "<table border=\"1\" class=\"dataframe\">\n",
       "  <thead>\n",
       "    <tr style=\"text-align: right;\">\n",
       "      <th></th>\n",
       "      <th>Beneficiary</th>\n",
       "      <th>Area</th>\n",
       "    </tr>\n",
       "  </thead>\n",
       "  <tbody>\n",
       "    <tr>\n",
       "      <th>0</th>\n",
       "      <td>beneficiary_2253</td>\n",
       "      <td>District_1</td>\n",
       "    </tr>\n",
       "    <tr>\n",
       "      <th>1</th>\n",
       "      <td>beneficiary_11406</td>\n",
       "      <td>district_1</td>\n",
       "    </tr>\n",
       "    <tr>\n",
       "      <th>2</th>\n",
       "      <td>beneficiary_3771</td>\n",
       "      <td>DISTRICT_1</td>\n",
       "    </tr>\n",
       "    <tr>\n",
       "      <th>3</th>\n",
       "      <td>beneficiary_14319</td>\n",
       "      <td>DISTRICT_1</td>\n",
       "    </tr>\n",
       "    <tr>\n",
       "      <th>4</th>\n",
       "      <td>beneficiary_14032</td>\n",
       "      <td>district_1</td>\n",
       "    </tr>\n",
       "  </tbody>\n",
       "</table>\n",
       "</div>"
      ],
      "text/plain": [
       "         Beneficiary        Area\n",
       "0   beneficiary_2253  District_1\n",
       "1  beneficiary_11406  district_1\n",
       "2   beneficiary_3771  DISTRICT_1\n",
       "3  beneficiary_14319  DISTRICT_1\n",
       "4  beneficiary_14032  district_1"
      ]
     },
     "execution_count": 8,
     "metadata": {},
     "output_type": "execute_result"
    }
   ],
   "source": [
    "areas_df.head()"
   ]
  },
  {
   "cell_type": "code",
   "execution_count": 9,
   "id": "984df1f3",
   "metadata": {
    "scrolled": true
   },
   "outputs": [
    {
     "data": {
      "text/html": [
       "<div>\n",
       "<style scoped>\n",
       "    .dataframe tbody tr th:only-of-type {\n",
       "        vertical-align: middle;\n",
       "    }\n",
       "\n",
       "    .dataframe tbody tr th {\n",
       "        vertical-align: top;\n",
       "    }\n",
       "\n",
       "    .dataframe thead th {\n",
       "        text-align: right;\n",
       "    }\n",
       "</style>\n",
       "<table border=\"1\" class=\"dataframe\">\n",
       "  <thead>\n",
       "    <tr style=\"text-align: right;\">\n",
       "      <th></th>\n",
       "      <th>Beneficiary</th>\n",
       "      <th>Area</th>\n",
       "    </tr>\n",
       "  </thead>\n",
       "  <tbody>\n",
       "    <tr>\n",
       "      <th>0</th>\n",
       "      <td>beneficiary_2253</td>\n",
       "      <td>district_1</td>\n",
       "    </tr>\n",
       "    <tr>\n",
       "      <th>1</th>\n",
       "      <td>beneficiary_11406</td>\n",
       "      <td>district_1</td>\n",
       "    </tr>\n",
       "    <tr>\n",
       "      <th>2</th>\n",
       "      <td>beneficiary_3771</td>\n",
       "      <td>district_1</td>\n",
       "    </tr>\n",
       "    <tr>\n",
       "      <th>3</th>\n",
       "      <td>beneficiary_14319</td>\n",
       "      <td>district_1</td>\n",
       "    </tr>\n",
       "    <tr>\n",
       "      <th>4</th>\n",
       "      <td>beneficiary_14032</td>\n",
       "      <td>district_1</td>\n",
       "    </tr>\n",
       "  </tbody>\n",
       "</table>\n",
       "</div>"
      ],
      "text/plain": [
       "         Beneficiary        Area\n",
       "0   beneficiary_2253  district_1\n",
       "1  beneficiary_11406  district_1\n",
       "2   beneficiary_3771  district_1\n",
       "3  beneficiary_14319  district_1\n",
       "4  beneficiary_14032  district_1"
      ]
     },
     "execution_count": 9,
     "metadata": {},
     "output_type": "execute_result"
    }
   ],
   "source": [
    "# data preprocessing\n",
    "areas_df['Area'] = areas_df['Area'].str.lower()\n",
    "areas_df.head()"
   ]
  },
  {
   "cell_type": "code",
   "execution_count": 10,
   "id": "fb8910c1",
   "metadata": {},
   "outputs": [
    {
     "data": {
      "text/html": [
       "<div>\n",
       "<style scoped>\n",
       "    .dataframe tbody tr th:only-of-type {\n",
       "        vertical-align: middle;\n",
       "    }\n",
       "\n",
       "    .dataframe tbody tr th {\n",
       "        vertical-align: top;\n",
       "    }\n",
       "\n",
       "    .dataframe thead th {\n",
       "        text-align: right;\n",
       "    }\n",
       "</style>\n",
       "<table border=\"1\" class=\"dataframe\">\n",
       "  <thead>\n",
       "    <tr style=\"text-align: right;\">\n",
       "      <th></th>\n",
       "      <th>Date</th>\n",
       "      <th>Type</th>\n",
       "      <th>Beneficiary</th>\n",
       "    </tr>\n",
       "  </thead>\n",
       "  <tbody>\n",
       "    <tr>\n",
       "      <th>0</th>\n",
       "      <td>2020-01-02</td>\n",
       "      <td>Home</td>\n",
       "      <td>beneficiary_12746</td>\n",
       "    </tr>\n",
       "    <tr>\n",
       "      <th>1</th>\n",
       "      <td>2020-01-02</td>\n",
       "      <td>Home</td>\n",
       "      <td>beneficiary_21239</td>\n",
       "    </tr>\n",
       "    <tr>\n",
       "      <th>2</th>\n",
       "      <td>2020-01-02</td>\n",
       "      <td>Home</td>\n",
       "      <td>beneficiary_17874</td>\n",
       "    </tr>\n",
       "    <tr>\n",
       "      <th>3</th>\n",
       "      <td>2020-01-02</td>\n",
       "      <td>Home</td>\n",
       "      <td>beneficiary_20265</td>\n",
       "    </tr>\n",
       "    <tr>\n",
       "      <th>4</th>\n",
       "      <td>2020-01-02</td>\n",
       "      <td>Home</td>\n",
       "      <td>beneficiary_5908</td>\n",
       "    </tr>\n",
       "  </tbody>\n",
       "</table>\n",
       "</div>"
      ],
      "text/plain": [
       "         Date  Type        Beneficiary\n",
       "0  2020-01-02  Home  beneficiary_12746\n",
       "1  2020-01-02  Home  beneficiary_21239\n",
       "2  2020-01-02  Home  beneficiary_17874\n",
       "3  2020-01-02  Home  beneficiary_20265\n",
       "4  2020-01-02  Home   beneficiary_5908"
      ]
     },
     "execution_count": 10,
     "metadata": {},
     "output_type": "execute_result"
    }
   ],
   "source": [
    "visits_df.head()"
   ]
  },
  {
   "cell_type": "code",
   "execution_count": 11,
   "id": "c8991503",
   "metadata": {},
   "outputs": [],
   "source": [
    "# grouping by beneficiaries to calculate the no of visits\n",
    "meetings_count  = visits_df.groupby('Beneficiary')['Beneficiary'].count()"
   ]
  },
  {
   "cell_type": "code",
   "execution_count": 12,
   "id": "4bcdcdb4",
   "metadata": {},
   "outputs": [],
   "source": [
    "meetings_count_df = meetings_count.reset_index(name='MeetingCount')"
   ]
  },
  {
   "cell_type": "code",
   "execution_count": 13,
   "id": "e88d2b13",
   "metadata": {},
   "outputs": [
    {
     "data": {
      "text/html": [
       "<div>\n",
       "<style scoped>\n",
       "    .dataframe tbody tr th:only-of-type {\n",
       "        vertical-align: middle;\n",
       "    }\n",
       "\n",
       "    .dataframe tbody tr th {\n",
       "        vertical-align: top;\n",
       "    }\n",
       "\n",
       "    .dataframe thead th {\n",
       "        text-align: right;\n",
       "    }\n",
       "</style>\n",
       "<table border=\"1\" class=\"dataframe\">\n",
       "  <thead>\n",
       "    <tr style=\"text-align: right;\">\n",
       "      <th></th>\n",
       "      <th>Beneficiary</th>\n",
       "      <th>MeetingCount</th>\n",
       "    </tr>\n",
       "  </thead>\n",
       "  <tbody>\n",
       "    <tr>\n",
       "      <th>0</th>\n",
       "      <td>beneficiary_1</td>\n",
       "      <td>3</td>\n",
       "    </tr>\n",
       "    <tr>\n",
       "      <th>1</th>\n",
       "      <td>beneficiary_10</td>\n",
       "      <td>8</td>\n",
       "    </tr>\n",
       "    <tr>\n",
       "      <th>2</th>\n",
       "      <td>beneficiary_100</td>\n",
       "      <td>6</td>\n",
       "    </tr>\n",
       "    <tr>\n",
       "      <th>3</th>\n",
       "      <td>beneficiary_1000</td>\n",
       "      <td>6</td>\n",
       "    </tr>\n",
       "    <tr>\n",
       "      <th>4</th>\n",
       "      <td>beneficiary_10000</td>\n",
       "      <td>9</td>\n",
       "    </tr>\n",
       "  </tbody>\n",
       "</table>\n",
       "</div>"
      ],
      "text/plain": [
       "         Beneficiary  MeetingCount\n",
       "0      beneficiary_1             3\n",
       "1     beneficiary_10             8\n",
       "2    beneficiary_100             6\n",
       "3   beneficiary_1000             6\n",
       "4  beneficiary_10000             9"
      ]
     },
     "execution_count": 13,
     "metadata": {},
     "output_type": "execute_result"
    }
   ],
   "source": [
    "meetings_count_df.head()"
   ]
  },
  {
   "cell_type": "code",
   "execution_count": 14,
   "id": "5c141ee3",
   "metadata": {},
   "outputs": [],
   "source": [
    "# merging the users_df and meetings_count_df to get information on no of meetings by USERID\n",
    "merged_df = pd.merge(users_df, meetings_count_df, left_on='BeneficiaryIDs', right_on='Beneficiary', how='inner')"
   ]
  },
  {
   "cell_type": "code",
   "execution_count": 15,
   "id": "bc2fdbfb",
   "metadata": {},
   "outputs": [],
   "source": [
    "merged_df.drop('Beneficiary', axis=1, inplace=True)"
   ]
  },
  {
   "cell_type": "code",
   "execution_count": 16,
   "id": "22922039",
   "metadata": {},
   "outputs": [
    {
     "data": {
      "text/html": [
       "<div>\n",
       "<style scoped>\n",
       "    .dataframe tbody tr th:only-of-type {\n",
       "        vertical-align: middle;\n",
       "    }\n",
       "\n",
       "    .dataframe tbody tr th {\n",
       "        vertical-align: top;\n",
       "    }\n",
       "\n",
       "    .dataframe thead th {\n",
       "        text-align: right;\n",
       "    }\n",
       "</style>\n",
       "<table border=\"1\" class=\"dataframe\">\n",
       "  <thead>\n",
       "    <tr style=\"text-align: right;\">\n",
       "      <th></th>\n",
       "      <th>UserID</th>\n",
       "      <th>BeneficiaryIDs</th>\n",
       "      <th>MeetingCount</th>\n",
       "    </tr>\n",
       "  </thead>\n",
       "  <tbody>\n",
       "    <tr>\n",
       "      <th>0</th>\n",
       "      <td>CHW_27</td>\n",
       "      <td>beneficiary_11406</td>\n",
       "      <td>2</td>\n",
       "    </tr>\n",
       "    <tr>\n",
       "      <th>1</th>\n",
       "      <td>CHW_27</td>\n",
       "      <td>beneficiary_3771</td>\n",
       "      <td>3</td>\n",
       "    </tr>\n",
       "    <tr>\n",
       "      <th>2</th>\n",
       "      <td>CHW_27</td>\n",
       "      <td>beneficiary_14319</td>\n",
       "      <td>5</td>\n",
       "    </tr>\n",
       "    <tr>\n",
       "      <th>3</th>\n",
       "      <td>CHW_27</td>\n",
       "      <td>beneficiary_14032</td>\n",
       "      <td>5</td>\n",
       "    </tr>\n",
       "    <tr>\n",
       "      <th>4</th>\n",
       "      <td>CHW_27</td>\n",
       "      <td>beneficiary_15025</td>\n",
       "      <td>1</td>\n",
       "    </tr>\n",
       "  </tbody>\n",
       "</table>\n",
       "</div>"
      ],
      "text/plain": [
       "   UserID     BeneficiaryIDs  MeetingCount\n",
       "0  CHW_27  beneficiary_11406             2\n",
       "1  CHW_27   beneficiary_3771             3\n",
       "2  CHW_27  beneficiary_14319             5\n",
       "3  CHW_27  beneficiary_14032             5\n",
       "4  CHW_27  beneficiary_15025             1"
      ]
     },
     "execution_count": 16,
     "metadata": {},
     "output_type": "execute_result"
    }
   ],
   "source": [
    "merged_df.head()"
   ]
  },
  {
   "cell_type": "code",
   "execution_count": 17,
   "id": "d6fa1eb1",
   "metadata": {},
   "outputs": [],
   "source": [
    "# grouping by UserID to calculate the no of visits made by each unique UserID\n",
    "user_meeting_count = merged_df.groupby('UserID')['MeetingCount'].count()"
   ]
  },
  {
   "cell_type": "code",
   "execution_count": 18,
   "id": "9f4e5e95",
   "metadata": {},
   "outputs": [],
   "source": [
    "user_meeting_count = user_meeting_count.reset_index(name = 'MeetingCount')"
   ]
  },
  {
   "cell_type": "code",
   "execution_count": 19,
   "id": "f34fe10f",
   "metadata": {},
   "outputs": [
    {
     "data": {
      "text/html": [
       "<div>\n",
       "<style scoped>\n",
       "    .dataframe tbody tr th:only-of-type {\n",
       "        vertical-align: middle;\n",
       "    }\n",
       "\n",
       "    .dataframe tbody tr th {\n",
       "        vertical-align: top;\n",
       "    }\n",
       "\n",
       "    .dataframe thead th {\n",
       "        text-align: right;\n",
       "    }\n",
       "</style>\n",
       "<table border=\"1\" class=\"dataframe\">\n",
       "  <thead>\n",
       "    <tr style=\"text-align: right;\">\n",
       "      <th></th>\n",
       "      <th>UserID</th>\n",
       "      <th>MeetingCount</th>\n",
       "    </tr>\n",
       "  </thead>\n",
       "  <tbody>\n",
       "    <tr>\n",
       "      <th>0</th>\n",
       "      <td>CHW_1</td>\n",
       "      <td>277</td>\n",
       "    </tr>\n",
       "    <tr>\n",
       "      <th>1</th>\n",
       "      <td>CHW_10</td>\n",
       "      <td>291</td>\n",
       "    </tr>\n",
       "    <tr>\n",
       "      <th>2</th>\n",
       "      <td>CHW_11</td>\n",
       "      <td>288</td>\n",
       "    </tr>\n",
       "    <tr>\n",
       "      <th>3</th>\n",
       "      <td>CHW_12</td>\n",
       "      <td>313</td>\n",
       "    </tr>\n",
       "    <tr>\n",
       "      <th>4</th>\n",
       "      <td>CHW_13</td>\n",
       "      <td>322</td>\n",
       "    </tr>\n",
       "    <tr>\n",
       "      <th>...</th>\n",
       "      <td>...</td>\n",
       "      <td>...</td>\n",
       "    </tr>\n",
       "    <tr>\n",
       "      <th>67</th>\n",
       "      <td>CHW_70</td>\n",
       "      <td>302</td>\n",
       "    </tr>\n",
       "    <tr>\n",
       "      <th>68</th>\n",
       "      <td>CHW_71</td>\n",
       "      <td>293</td>\n",
       "    </tr>\n",
       "    <tr>\n",
       "      <th>69</th>\n",
       "      <td>CHW_72</td>\n",
       "      <td>290</td>\n",
       "    </tr>\n",
       "    <tr>\n",
       "      <th>70</th>\n",
       "      <td>CHW_8</td>\n",
       "      <td>294</td>\n",
       "    </tr>\n",
       "    <tr>\n",
       "      <th>71</th>\n",
       "      <td>CHW_9</td>\n",
       "      <td>275</td>\n",
       "    </tr>\n",
       "  </tbody>\n",
       "</table>\n",
       "<p>72 rows × 2 columns</p>\n",
       "</div>"
      ],
      "text/plain": [
       "    UserID  MeetingCount\n",
       "0    CHW_1           277\n",
       "1   CHW_10           291\n",
       "2   CHW_11           288\n",
       "3   CHW_12           313\n",
       "4   CHW_13           322\n",
       "..     ...           ...\n",
       "67  CHW_70           302\n",
       "68  CHW_71           293\n",
       "69  CHW_72           290\n",
       "70   CHW_8           294\n",
       "71   CHW_9           275\n",
       "\n",
       "[72 rows x 2 columns]"
      ]
     },
     "execution_count": 19,
     "metadata": {},
     "output_type": "execute_result"
    }
   ],
   "source": [
    "user_meeting_count"
   ]
  },
  {
   "cell_type": "code",
   "execution_count": 20,
   "id": "8eb404ab",
   "metadata": {},
   "outputs": [
    {
     "data": {
      "text/plain": [
       "313"
      ]
     },
     "execution_count": 20,
     "metadata": {},
     "output_type": "execute_result"
    }
   ],
   "source": [
    "# average no of meetings\n",
    "round(user_meeting_count['MeetingCount'].mean())"
   ]
  },
  {
   "cell_type": "code",
   "execution_count": 21,
   "id": "0f8cdd39",
   "metadata": {},
   "outputs": [
    {
     "data": {
      "image/png": "[encoded data removed]",
      "text/plain": [
       "<Figure size 1200x1000 with 1 Axes>"
      ]
     },
     "metadata": {},
     "output_type": "display_data"
    }
   ],
   "source": [
    "# plotting the chart\n",
    "plt.figure(figsize=(12, 10))\n",
    "sns.barplot(x = user_meeting_count['UserID'], y = user_meeting_count['MeetingCount'], width= 0.8)\n",
    "plt.title(\"Bar graph illustrating visits done by healthcare providers\")\n",
    "plt.xlabel(\"Users\")\n",
    "plt.ylabel(\"Meeting counts by users \")\n",
    "plt.xticks(rotation='vertical')\n",
    "plt.show()"
   ]
  },
  {
   "cell_type": "markdown",
   "id": "6a9eb25d",
   "metadata": {},
   "source": [
    "**Q1) Are all users doing the same amount of work? (and why)?**\n",
    "\n",
    "**Answer:** From the graph it can be observed that work is not distributed equally among the users. For eg. User 27, 28 and 51 are doing considerally more work than average(313 meetings). Work can be distributed equally among users to maintain productivity and efficiency."
   ]
  },
  {
   "cell_type": "markdown",
   "id": "0b6041e6",
   "metadata": {},
   "source": [
    "**PART 2**"
   ]
  },
  {
   "cell_type": "code",
   "execution_count": 22,
   "id": "f0a555ad",
   "metadata": {},
   "outputs": [],
   "source": [
    "# merging users_df and areas_df to get information on no of meetings based on area\n",
    "merged_df1 = pd.merge(users_df, areas_df, left_on='BeneficiaryIDs', right_on='Beneficiary', how='inner')"
   ]
  },
  {
   "cell_type": "code",
   "execution_count": 23,
   "id": "05836d10",
   "metadata": {},
   "outputs": [
    {
     "data": {
      "text/html": [
       "<div>\n",
       "<style scoped>\n",
       "    .dataframe tbody tr th:only-of-type {\n",
       "        vertical-align: middle;\n",
       "    }\n",
       "\n",
       "    .dataframe tbody tr th {\n",
       "        vertical-align: top;\n",
       "    }\n",
       "\n",
       "    .dataframe thead th {\n",
       "        text-align: right;\n",
       "    }\n",
       "</style>\n",
       "<table border=\"1\" class=\"dataframe\">\n",
       "  <thead>\n",
       "    <tr style=\"text-align: right;\">\n",
       "      <th></th>\n",
       "      <th>UserID</th>\n",
       "      <th>BeneficiaryIDs</th>\n",
       "      <th>Beneficiary</th>\n",
       "      <th>Area</th>\n",
       "    </tr>\n",
       "  </thead>\n",
       "  <tbody>\n",
       "    <tr>\n",
       "      <th>0</th>\n",
       "      <td>CHW_27</td>\n",
       "      <td>beneficiary_11406</td>\n",
       "      <td>beneficiary_11406</td>\n",
       "      <td>district_1</td>\n",
       "    </tr>\n",
       "    <tr>\n",
       "      <th>1</th>\n",
       "      <td>CHW_27</td>\n",
       "      <td>beneficiary_3771</td>\n",
       "      <td>beneficiary_3771</td>\n",
       "      <td>district_1</td>\n",
       "    </tr>\n",
       "    <tr>\n",
       "      <th>2</th>\n",
       "      <td>CHW_27</td>\n",
       "      <td>beneficiary_14319</td>\n",
       "      <td>beneficiary_14319</td>\n",
       "      <td>district_1</td>\n",
       "    </tr>\n",
       "    <tr>\n",
       "      <th>3</th>\n",
       "      <td>CHW_27</td>\n",
       "      <td>beneficiary_14032</td>\n",
       "      <td>beneficiary_14032</td>\n",
       "      <td>district_1</td>\n",
       "    </tr>\n",
       "    <tr>\n",
       "      <th>4</th>\n",
       "      <td>CHW_27</td>\n",
       "      <td>beneficiary_15025</td>\n",
       "      <td>beneficiary_15025</td>\n",
       "      <td>district_1</td>\n",
       "    </tr>\n",
       "  </tbody>\n",
       "</table>\n",
       "</div>"
      ],
      "text/plain": [
       "   UserID     BeneficiaryIDs        Beneficiary        Area\n",
       "0  CHW_27  beneficiary_11406  beneficiary_11406  district_1\n",
       "1  CHW_27   beneficiary_3771   beneficiary_3771  district_1\n",
       "2  CHW_27  beneficiary_14319  beneficiary_14319  district_1\n",
       "3  CHW_27  beneficiary_14032  beneficiary_14032  district_1\n",
       "4  CHW_27  beneficiary_15025  beneficiary_15025  district_1"
      ]
     },
     "execution_count": 23,
     "metadata": {},
     "output_type": "execute_result"
    }
   ],
   "source": [
    "merged_df1.head()"
   ]
  },
  {
   "cell_type": "code",
   "execution_count": 24,
   "id": "eed7e76a",
   "metadata": {},
   "outputs": [],
   "source": [
    "merged_df1.drop('Beneficiary', axis=1, inplace=True)"
   ]
  },
  {
   "cell_type": "code",
   "execution_count": 25,
   "id": "90e98e73",
   "metadata": {},
   "outputs": [
    {
     "data": {
      "text/html": [
       "<div>\n",
       "<style scoped>\n",
       "    .dataframe tbody tr th:only-of-type {\n",
       "        vertical-align: middle;\n",
       "    }\n",
       "\n",
       "    .dataframe tbody tr th {\n",
       "        vertical-align: top;\n",
       "    }\n",
       "\n",
       "    .dataframe thead th {\n",
       "        text-align: right;\n",
       "    }\n",
       "</style>\n",
       "<table border=\"1\" class=\"dataframe\">\n",
       "  <thead>\n",
       "    <tr style=\"text-align: right;\">\n",
       "      <th></th>\n",
       "      <th>UserID</th>\n",
       "      <th>BeneficiaryIDs</th>\n",
       "      <th>Area</th>\n",
       "    </tr>\n",
       "  </thead>\n",
       "  <tbody>\n",
       "    <tr>\n",
       "      <th>0</th>\n",
       "      <td>CHW_27</td>\n",
       "      <td>beneficiary_11406</td>\n",
       "      <td>district_1</td>\n",
       "    </tr>\n",
       "    <tr>\n",
       "      <th>1</th>\n",
       "      <td>CHW_27</td>\n",
       "      <td>beneficiary_3771</td>\n",
       "      <td>district_1</td>\n",
       "    </tr>\n",
       "    <tr>\n",
       "      <th>2</th>\n",
       "      <td>CHW_27</td>\n",
       "      <td>beneficiary_14319</td>\n",
       "      <td>district_1</td>\n",
       "    </tr>\n",
       "    <tr>\n",
       "      <th>3</th>\n",
       "      <td>CHW_27</td>\n",
       "      <td>beneficiary_14032</td>\n",
       "      <td>district_1</td>\n",
       "    </tr>\n",
       "    <tr>\n",
       "      <th>4</th>\n",
       "      <td>CHW_27</td>\n",
       "      <td>beneficiary_15025</td>\n",
       "      <td>district_1</td>\n",
       "    </tr>\n",
       "    <tr>\n",
       "      <th>...</th>\n",
       "      <td>...</td>\n",
       "      <td>...</td>\n",
       "      <td>...</td>\n",
       "    </tr>\n",
       "    <tr>\n",
       "      <th>23078</th>\n",
       "      <td>CHW_39</td>\n",
       "      <td>beneficiary_10</td>\n",
       "      <td>district_50</td>\n",
       "    </tr>\n",
       "    <tr>\n",
       "      <th>23079</th>\n",
       "      <td>CHW_39</td>\n",
       "      <td>beneficiary_13535</td>\n",
       "      <td>district_50</td>\n",
       "    </tr>\n",
       "    <tr>\n",
       "      <th>23080</th>\n",
       "      <td>CHW_39</td>\n",
       "      <td>beneficiary_18743</td>\n",
       "      <td>district_50</td>\n",
       "    </tr>\n",
       "    <tr>\n",
       "      <th>23081</th>\n",
       "      <td>CHW_39</td>\n",
       "      <td>beneficiary_21146</td>\n",
       "      <td>district_50</td>\n",
       "    </tr>\n",
       "    <tr>\n",
       "      <th>23082</th>\n",
       "      <td>CHW_39</td>\n",
       "      <td>beneficiary_9715</td>\n",
       "      <td>district_50</td>\n",
       "    </tr>\n",
       "  </tbody>\n",
       "</table>\n",
       "<p>23083 rows × 3 columns</p>\n",
       "</div>"
      ],
      "text/plain": [
       "       UserID     BeneficiaryIDs         Area\n",
       "0      CHW_27  beneficiary_11406   district_1\n",
       "1      CHW_27   beneficiary_3771   district_1\n",
       "2      CHW_27  beneficiary_14319   district_1\n",
       "3      CHW_27  beneficiary_14032   district_1\n",
       "4      CHW_27  beneficiary_15025   district_1\n",
       "...       ...                ...          ...\n",
       "23078  CHW_39     beneficiary_10  district_50\n",
       "23079  CHW_39  beneficiary_13535  district_50\n",
       "23080  CHW_39  beneficiary_18743  district_50\n",
       "23081  CHW_39  beneficiary_21146  district_50\n",
       "23082  CHW_39   beneficiary_9715  district_50\n",
       "\n",
       "[23083 rows x 3 columns]"
      ]
     },
     "execution_count": 25,
     "metadata": {},
     "output_type": "execute_result"
    }
   ],
   "source": [
    "merged_df1"
   ]
  },
  {
   "cell_type": "code",
   "execution_count": 26,
   "id": "1f9d9576",
   "metadata": {},
   "outputs": [
    {
     "data": {
      "text/plain": [
       "(23083, 3)"
      ]
     },
     "execution_count": 26,
     "metadata": {},
     "output_type": "execute_result"
    }
   ],
   "source": [
    "merged_df1.shape"
   ]
  },
  {
   "cell_type": "code",
   "execution_count": 27,
   "id": "d80d3e3f",
   "metadata": {},
   "outputs": [],
   "source": [
    "#merged_df1.groupby('Area')['BeneficiaryIDs'].count()"
   ]
  },
  {
   "cell_type": "code",
   "execution_count": 28,
   "id": "9a77e5c3",
   "metadata": {},
   "outputs": [],
   "source": [
    "area_count = merged_df1.groupby('Area')['BeneficiaryIDs'].count()"
   ]
  },
  {
   "cell_type": "code",
   "execution_count": 29,
   "id": "93706bcd",
   "metadata": {},
   "outputs": [],
   "source": [
    "area_count = area_count.reset_index(name = 'BeneficiaryIDs')"
   ]
  },
  {
   "cell_type": "code",
   "execution_count": 30,
   "id": "945726d5",
   "metadata": {},
   "outputs": [
    {
     "data": {
      "text/html": [
       "<div>\n",
       "<style scoped>\n",
       "    .dataframe tbody tr th:only-of-type {\n",
       "        vertical-align: middle;\n",
       "    }\n",
       "\n",
       "    .dataframe tbody tr th {\n",
       "        vertical-align: top;\n",
       "    }\n",
       "\n",
       "    .dataframe thead th {\n",
       "        text-align: right;\n",
       "    }\n",
       "</style>\n",
       "<table border=\"1\" class=\"dataframe\">\n",
       "  <thead>\n",
       "    <tr style=\"text-align: right;\">\n",
       "      <th></th>\n",
       "      <th>Area</th>\n",
       "      <th>BeneficiaryIDs</th>\n",
       "    </tr>\n",
       "  </thead>\n",
       "  <tbody>\n",
       "    <tr>\n",
       "      <th>0</th>\n",
       "      <td>district_1</td>\n",
       "      <td>510</td>\n",
       "    </tr>\n",
       "    <tr>\n",
       "      <th>1</th>\n",
       "      <td>district_10</td>\n",
       "      <td>532</td>\n",
       "    </tr>\n",
       "    <tr>\n",
       "      <th>2</th>\n",
       "      <td>district_11</td>\n",
       "      <td>561</td>\n",
       "    </tr>\n",
       "    <tr>\n",
       "      <th>3</th>\n",
       "      <td>district_12</td>\n",
       "      <td>662</td>\n",
       "    </tr>\n",
       "    <tr>\n",
       "      <th>4</th>\n",
       "      <td>district_13</td>\n",
       "      <td>598</td>\n",
       "    </tr>\n",
       "  </tbody>\n",
       "</table>\n",
       "</div>"
      ],
      "text/plain": [
       "          Area  BeneficiaryIDs\n",
       "0   district_1             510\n",
       "1  district_10             532\n",
       "2  district_11             561\n",
       "3  district_12             662\n",
       "4  district_13             598"
      ]
     },
     "execution_count": 30,
     "metadata": {},
     "output_type": "execute_result"
    }
   ],
   "source": [
    "area_count.head()"
   ]
  },
  {
   "cell_type": "code",
   "execution_count": 31,
   "id": "2a268bc5",
   "metadata": {},
   "outputs": [
    {
     "data": {
      "image/png": "[encoded data removed]",
      "text/plain": [
       "<Figure size 1200x800 with 1 Axes>"
      ]
     },
     "metadata": {},
     "output_type": "display_data"
    }
   ],
   "source": [
    "# plotting the chart\n",
    "plt.figure(figsize=(12, 8))\n",
    "sns.barplot(x = area_count['Area'], y = area_count['BeneficiaryIDs'], width= 0.8)\n",
    "plt.title(\"Bar graph illustrating no of meetings based on districts\")\n",
    "plt.xlabel(\"Districts\")\n",
    "plt.ylabel(\"Number of meetings\")\n",
    "plt.xticks(rotation='vertical')\n",
    "plt.show()"
   ]
  },
  {
   "cell_type": "markdown",
   "id": "f702f179",
   "metadata": {},
   "source": [
    "**Q2) Which districts have beneficiaries that are not receiving sufficient amounts of healthcare?**"
   ]
  },
  {
   "cell_type": "markdown",
   "id": "0acbeccc",
   "metadata": {},
   "source": [
    "**Assumptions:** Every district has equal number of beneficiaries and workers allocated to it.\n",
    "For eg. 20k people, 50 districts = 400 people/ per district.\n",
    "Workers around 72 -- 20k people/72 = 277 people/ per worker.\n",
    "\n",
    "It can be observed that number of meetings are unequally distributed among districts. This is a contradiction to our assumptions. **Some districts have more than 700 number of meetings while some have less than 300.**\n",
    "\n",
    "More workers can be allocated to districts which have more beneficiaries. Furthermore, data can be collected on new beneficiaries with 0 meetings. A mininum threshold can be set on the number of meetings to ensure that mininum requirements are satisfied and the services are provided equally. Different factors contributing to insufficient healthcare should be studied."
   ]
  },
  {
   "cell_type": "markdown",
   "id": "d9f41230",
   "metadata": {},
   "source": [
    "Time taken: approximately 1 hr 45mins"
   ]
  }
 ],
 "metadata": {
  "kernelspec": {
   "display_name": "Python 3 (ipykernel)",
   "language": "python",
   "name": "python3"
  },
  "language_info": {
   "codemirror_mode": {
    "name": "ipython",
    "version": 3
   },
   "file_extension": ".py",
   "mimetype": "text/x-python",
   "name": "python",
   "nbconvert_exporter": "python",
   "pygments_lexer": "ipython3",
   "version": "3.11.5"
  }
 },
 "nbformat": 4,
 "nbformat_minor": 5
}
